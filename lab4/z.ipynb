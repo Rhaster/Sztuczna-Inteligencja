{
 "cells": [
  {
   "attachments": {},
   "cell_type": "markdown",
   "metadata": {},
   "source": [
    "Zad 1 Bramka Not "
   ]
  },
  {
   "cell_type": "code",
   "execution_count": 4,
   "metadata": {},
   "outputs": [
    {
     "name": "stdout",
     "output_type": "stream",
     "text": [
      "Przed 0,PO  1\n",
      "Przed 1,PO  0\n"
     ]
    }
   ],
   "source": [
    "import numpy as np\n",
    "weight = np.array([-1])\n",
    "bias = 0.5\n",
    "\n",
    "def activation_function(fx):\n",
    "    return 1 if fx >= 0 else 0\n",
    "\n",
    "inputs = np.array([[0], [1]])\n",
    "for i in inputs:\n",
    "    fx = np.dot(weight, i) + bias\n",
    "    c=activation_function(fx)\n",
    "    print(f\"Przed {i[0]},PO  {c}\")"
   ]
  },
  {
   "attachments": {},
   "cell_type": "markdown",
   "metadata": {},
   "source": [
    "Zad 1.2 brmka and "
   ]
  },
  {
   "cell_type": "code",
   "execution_count": 5,
   "metadata": {},
   "outputs": [
    {
     "name": "stdout",
     "output_type": "stream",
     "text": [
      "Przed 0,PO  (array([0, 1]), 0)\n",
      "Przed 0,PO  (array([0, 0]), 0)\n",
      "Przed 1,PO  (array([1, 1]), 1)\n",
      "Przed 1,PO  (array([1, 0]), 0)\n"
     ]
    }
   ],
   "source": [
    "weight = np.array([1,1])\n",
    "\n",
    "bias = -1.5\n",
    "\n",
    "def actub_and(x, weight, bias):\n",
    "    fx = np.dot(weight, x)  + bias\n",
    "    if fx >= 0:\n",
    "        return i, 1\n",
    "    else:\n",
    "        return i, 0\n",
    "\n",
    "inputs = np.array([[0,1],[0,0],[1,1],[1,0]])\n",
    "for i in inputs:\n",
    "    fx = np.dot(weight, i) + bias\n",
    "    c=actub_and(i,weight,bias)\n",
    "    print(f\"Przed {i[0]},PO  {c}\")"
   ]
  },
  {
   "attachments": {},
   "cell_type": "markdown",
   "metadata": {},
   "source": [
    "Z2"
   ]
  },
  {
   "cell_type": "code",
   "execution_count": 6,
   "metadata": {},
   "outputs": [
    {
     "name": "stdout",
     "output_type": "stream",
     "text": [
      "Przed 0,PO  (array([0, 1]), 0)\n",
      "Przed 0,PO  (array([0, 0]), 0)\n",
      "Przed 1,PO  (array([1, 1]), 0)\n",
      "Przed 1,PO  (array([1, 0]), 1)\n"
     ]
    }
   ],
   "source": [
    "weight = np.array([1,-1])\n",
    "\n",
    "bias = -0.5\n",
    "\n",
    "def actub_and_not(x, weight, bias):\n",
    "    fx = np.dot(weight, x)  + bias\n",
    "    if fx >= 0:\n",
    "        return i, 1\n",
    "    else:\n",
    "        return i, 0\n",
    "\n",
    "inputs = np.array([[0,1],[0,0],[1,1],[1,0]])\n",
    "for i in inputs:\n",
    "    fx = np.dot(weight, i) + bias\n",
    "    c=actub_and(i,weight,bias)\n",
    "    print(f\"Przed {i[0]},PO  {c}\")"
   ]
  },
  {
   "attachments": {},
   "cell_type": "markdown",
   "metadata": {},
   "source": [
    "Z3"
   ]
  },
  {
   "cell_type": "code",
   "execution_count": 9,
   "metadata": {},
   "outputs": [
    {
     "name": "stdout",
     "output_type": "stream",
     "text": [
      "Przed [0, 1],PO  0\n",
      "Przed [1, 1],PO  1\n",
      "Przed [1, 1],PO  1\n",
      "Przed [1, 0],PO  0\n"
     ]
    }
   ],
   "source": [
    "weight = np.array([1,1])\n",
    "\n",
    "bias = -1.5\n",
    "\n",
    "def actub_and(x, weight, bias):\n",
    "    fx = np.dot(weight, x)  + bias\n",
    "    if fx >= 0:\n",
    "        return  1\n",
    "    else:\n",
    "        return  0\n",
    "Hold=[]\n",
    "inputs = np.array([[0,0],[0,1],[1,0],[1,1]])\n",
    "for i in inputs:\n",
    "    fx = np.dot(weight, i) + bias\n",
    "    c=actub_and(i,weight,bias)\n",
    "    #print(f\"Przed {i[0]},PO  {c}\")\n",
    "    Hold.append(c)\n",
    "\n",
    "weight = np.array([-1])\n",
    "bias = 0.5\n",
    "\n",
    "And_hold=[]\n",
    "def activation_function(fx):\n",
    "    return 1 if fx >= 0 else 0\n",
    "for a in Hold:\n",
    "    fx = np.dot(weight, a) + bias\n",
    "    And_hold.append(activation_function(fx))\n",
    "\n",
    "\n",
    "weight = np.array([1,1])\n",
    "bias = -0.5\n",
    "inputs = np.array([[0, 0], [0, 1], [1, 0], [1, 1]])\n",
    "def OR_perceptron(x, weight, bias):\n",
    "    \n",
    "    fx = np.dot(weight, x)  + bias\n",
    "    \n",
    "    if fx >= 0:\n",
    "        return  1\n",
    "    else:\n",
    "        return  0\n",
    "holder_or=[]\n",
    "for i in inputs:\n",
    "    holder_or.append(OR_perceptron(i, weight, bias))\n",
    "#print(holder_or)\n",
    "#print(And_hold)\n",
    "x = []\n",
    "for a in range(4):\n",
    "    x.append([holder_or[a],And_hold[a]])\n",
    "weight = np.array([1,1])\n",
    "\n",
    "bias = -1.5\n",
    "for i in x:\n",
    "    fx = np.dot(weight, i) + bias\n",
    "    c=actub_and(i,weight,bias)\n",
    "    print(f\"Przed {i},PO  {c}\")"
   ]
  }
 ],
 "metadata": {
  "kernelspec": {
   "display_name": "Python 3",
   "language": "python",
   "name": "python3"
  },
  "language_info": {
   "codemirror_mode": {
    "name": "ipython",
    "version": 3
   },
   "file_extension": ".py",
   "mimetype": "text/x-python",
   "name": "python",
   "nbconvert_exporter": "python",
   "pygments_lexer": "ipython3",
   "version": "3.10.4"
  },
  "orig_nbformat": 4
 },
 "nbformat": 4,
 "nbformat_minor": 2
}
