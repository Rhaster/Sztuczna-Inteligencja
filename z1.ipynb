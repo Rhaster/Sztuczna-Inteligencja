{
 "cells": [
  {
   "attachments": {},
   "cell_type": "markdown",
   "metadata": {},
   "source": [
    "Chciałem zrobic dla datasetu car ale tam nie ma wart numerycznych wiec musialem od nowa dla innego zrobic \n",
    "Wczytanie bibliotek"
   ]
  },
  {
   "cell_type": "code",
   "execution_count": 3,
   "metadata": {},
   "outputs": [],
   "source": [
    "import pandas as pd\n",
    "import numpy as np\n",
    "from sklearn.preprocessing import MinMaxScaler,StandardScaler"
   ]
  },
  {
   "attachments": {},
   "cell_type": "markdown",
   "metadata": {},
   "source": [
    "Wczytanie plików "
   ]
  },
  {
   "cell_type": "code",
   "execution_count": 4,
   "metadata": {},
   "outputs": [],
   "source": [
    "attribute_list =  [\"a1n\", \"a2n\", \"a3n\", \"a4n\", \"a5n\", \"a6n\", \"a7n\", \"a8n\", \"a9d\"]\n",
    "dataframe= pd.read_csv(\"diabetes.txt\", sep=\" \", header=None)\n",
    "info = pd.read_csv(\"_info-data-discrete.txt\", sep=\" \", header=None)"
   ]
  },
  {
   "attachments": {},
   "cell_type": "markdown",
   "metadata": {},
   "source": [
    "wartosci"
   ]
  },
  {
   "cell_type": "code",
   "execution_count": 15,
   "metadata": {},
   "outputs": [],
   "source": [
    "attribute_list =  [\"a1n\", \"a2n\", \"a3n\", \"a4n\", \"a5n\", \"a6n\", \"a7n\", \"a8n\", \"a9d\"]"
   ]
  },
  {
   "attachments": {},
   "cell_type": "markdown",
   "metadata": {},
   "source": [
    "Zad 3\n",
    "a)"
   ]
  },
  {
   "cell_type": "code",
   "execution_count": 16,
   "metadata": {},
   "outputs": [
    {
     "name": "stdout",
     "output_type": "stream",
     "text": [
      "Symbole klas decyzyjnych:  [148  85 183  89 137 116  78 115 197 125 110 168 139 189 166 100 118 107\n",
      " 103 126  99 196 119 143 147  97 145 117 109 158  88  92 122 138 102  90\n",
      " 111 180 133 106 171 159 146  71 105 101 176 150  73 187  84  44 141 114\n",
      "  95 129  79   0  62 131 112 113  74  83 136  80 123  81 134 142 144  93\n",
      " 163 151  96 155  76 160 124 162 132 120 173 170 128 108 154  57 156 153\n",
      " 188 152 104  87  75 179 130 194 181 135 184 140 177 164  91 165  86 193\n",
      " 191 161 167  77 182 157 178  61  98 127  82  72 172  94 175 195  68 186\n",
      " 198 121  67 174 199  56 169 149  65 190]\n"
     ]
    }
   ],
   "source": [
    "print(\"Symbole klas decyzyjnych: \",pd.unique(dataframe[1]))"
   ]
  },
  {
   "attachments": {},
   "cell_type": "markdown",
   "metadata": {},
   "source": [
    "b)"
   ]
  },
  {
   "cell_type": "code",
   "execution_count": 5,
   "metadata": {},
   "outputs": [
    {
     "name": "stdout",
     "output_type": "stream",
     "text": [
      "Wielkoś klas decyzyjnych: 768\n"
     ]
    }
   ],
   "source": [
    "print(\"Wielkoś klas decyzyjnych:\" ,info[2][9])"
   ]
  },
  {
   "attachments": {},
   "cell_type": "markdown",
   "metadata": {},
   "source": [
    "c)"
   ]
  },
  {
   "cell_type": "code",
   "execution_count": 18,
   "metadata": {},
   "outputs": [
    {
     "name": "stdout",
     "output_type": "stream",
     "text": [
      "Minimalne wartość atrybutów: \n",
      "0 : 0\n",
      "1 : 0\n",
      "2 : 0\n",
      "3 : 0\n",
      "4 : 0\n",
      "5 : 0.0\n",
      "6 : 0.078\n",
      "7 : 21\n",
      "8 : 0\n",
      "wartosci maxymalne atrybutów: \n",
      "0 : 17\n",
      "1 : 199\n",
      "2 : 122\n",
      "3 : 99\n",
      "4 : 846\n",
      "5 : 67.1\n",
      "6 : 2.42\n",
      "7 : 81\n",
      "8 : 1\n"
     ]
    }
   ],
   "source": [
    "print(\"Minimalne wartość atrybutów: \")\n",
    "\n",
    "for col in dataframe.columns:\n",
    "    print(f\"{col} : {dataframe[col].min()}\")\n",
    "\n",
    "print(\"wartosci maxymalne atrybutów: \")\n",
    "for col in dataframe:\n",
    "    print(col, \":\", dataframe[col].max())"
   ]
  },
  {
   "attachments": {},
   "cell_type": "markdown",
   "metadata": {},
   "source": [
    "d)"
   ]
  },
  {
   "cell_type": "code",
   "execution_count": 19,
   "metadata": {},
   "outputs": [
    {
     "name": "stdout",
     "output_type": "stream",
     "text": [
      "Liczba różnych wartości dla wszystkich atrybutów:\n",
      "a1n: 17\n",
      "a2n: 136\n",
      "a3n: 47\n",
      "a4n: 51\n",
      "a5n: 186\n",
      "a6n: 248\n",
      "a7n: 517\n",
      "a8n: 52\n",
      "a9d: 2\n"
     ]
    }
   ],
   "source": [
    "\n",
    "print(\"Liczba różnych wartości dla wszystkich atrybutów:\")\n",
    "for idx, col in enumerate(dataframe.columns):\n",
    "    print(f\"{attribute_list[idx]}: {len(dataframe[col].unique())}\")"
   ]
  },
  {
   "attachments": {},
   "cell_type": "markdown",
   "metadata": {},
   "source": [
    "\n",
    "\n",
    "f)"
   ]
  },
  {
   "cell_type": "code",
   "execution_count": 20,
   "metadata": {},
   "outputs": [
    {
     "name": "stdout",
     "output_type": "stream",
     "text": [
      "odchyl standardowe dla wszystkich atrybutów:\n",
      "a1n : 3.3695780626988694\n",
      "a2n : 31.97261819513622\n",
      "a3n : 19.355807170644777\n",
      "a4n : 15.952217567727637\n",
      "a5n : 115.24400235133817\n",
      "a6n : 7.884160320375446\n",
      "a7n : 0.3313285950127749\n"
     ]
    }
   ],
   "source": [
    "#f\n",
    "print(\"odchyl standardowe dla wszystkich atrybutów:\")\n",
    "for col in range(0, 7):\n",
    "    print(f\"{attribute_list[col]} : {dataframe[col].std()}\")"
   ]
  },
  {
   "attachments": {},
   "cell_type": "markdown",
   "metadata": {},
   "source": [
    "4."
   ]
  },
  {
   "cell_type": "code",
   "execution_count": 21,
   "metadata": {},
   "outputs": [
    {
     "name": "stdout",
     "output_type": "stream",
     "text": [
      "przed zamianą\n",
      "        0      1     2     3      4     5      6     7    8\n",
      "0     6.0  148.0  72.0  35.0    0.0  33.6  0.627  50.0  1.0\n",
      "1     1.0   85.0  66.0  29.0    0.0  26.6  0.351  31.0  0.0\n",
      "2     8.0  183.0  64.0   0.0    0.0  23.3  0.672  32.0  1.0\n",
      "3     1.0   89.0  66.0  23.0   94.0  28.1  0.167  21.0    ?\n",
      "4     0.0  137.0  40.0  35.0  168.0  43.1  2.288  33.0  1.0\n",
      "..    ...    ...   ...   ...    ...   ...    ...   ...  ...\n",
      "763  10.0  101.0  76.0  48.0  180.0  32.9  0.171  63.0  0.0\n",
      "764   2.0  122.0  70.0  27.0    0.0  36.8   0.34  27.0  0.0\n",
      "765     ?  121.0  72.0  23.0  112.0  26.2  0.245  30.0  0.0\n",
      "766   1.0      ?  60.0     ?    0.0  30.1  0.349  47.0  1.0\n",
      "767   1.0   93.0  70.0  31.0    0.0     ?  0.315  23.0  0.0\n",
      "\n",
      "[768 rows x 9 columns]\n",
      "najczesciej wyst wartosci\n",
      "     0    1     2    3    4     5      6     7    8\n",
      "0  1.0   99  70.0  0.0  0.0  32.0  0.254  22.0  0.0\n",
      "1  NaN  100   NaN  NaN  NaN   NaN  0.258   NaN  NaN\n",
      "po zamianie\n",
      "        0      1     2     3      4     5      6     7    8\n",
      "0     6.0  148.0  72.0  35.0    0.0  33.6  0.627  50.0  1.0\n",
      "1     1.0   85.0  66.0  29.0    0.0  26.6  0.351  31.0  0.0\n",
      "2     8.0  183.0  64.0   0.0    0.0  23.3  0.672  32.0  1.0\n",
      "3     1.0   89.0  66.0  23.0   94.0  28.1  0.167  21.0  0.0\n",
      "4     0.0  137.0  40.0  35.0  168.0  43.1  2.288  33.0  1.0\n",
      "..    ...    ...   ...   ...    ...   ...    ...   ...  ...\n",
      "763  10.0  101.0  76.0  48.0  180.0  32.9  0.171  63.0  0.0\n",
      "764   2.0  122.0  70.0  27.0    0.0  36.8  0.340  27.0  0.0\n",
      "765   1.0  121.0  72.0  23.0  112.0  26.2  0.245  30.0  0.0\n",
      "766   1.0   99.0  60.0   0.0    0.0  30.1  0.349  47.0  1.0\n",
      "767   1.0   93.0  70.0  31.0    0.0  32.0  0.315  23.0  0.0\n",
      "\n",
      "[768 rows x 9 columns]\n"
     ]
    }
   ],
   "source": [
    "df_missing = dataframe.mask(np.random.random(dataframe.shape) < 0.1)\n",
    "df_missing = df_missing.fillna('?')\n",
    "most_common = df_missing.mode()\n",
    "print(\"przed zamianą\")\n",
    "print(df_missing)\n",
    "print(\"najczesciej wyst wartosci\")\n",
    "most_common = dataframe.mode()\n",
    "print(dataframe.mode())\n",
    "print(\"po zamianie\")\n",
    "df_imputed = df_missing.replace(\"?\", most_common.iloc[0])\n",
    "print(df_imputed)"
   ]
  },
  {
   "attachments": {},
   "cell_type": "markdown",
   "metadata": {},
   "source": [
    "b) <-1,1>"
   ]
  },
  {
   "cell_type": "code",
   "execution_count": 22,
   "metadata": {},
   "outputs": [
    {
     "name": "stdout",
     "output_type": "stream",
     "text": [
      "Normalizacja danych <-1,1>\n",
      "            0         1         2         3         4         5         6  \\\n",
      "0   -0.294118  0.487437  0.180328 -0.292929 -1.000000  0.001490 -0.531170   \n",
      "1   -0.882353 -0.145729  0.081967 -0.414141 -1.000000 -0.207154 -0.766866   \n",
      "2   -0.058824  0.839196  0.049180 -1.000000 -1.000000 -0.305514 -0.492741   \n",
      "3   -0.882353 -0.105528  0.081967 -0.535354 -0.777778 -0.162444 -0.923997   \n",
      "4   -1.000000  0.376884 -0.344262 -0.292929 -0.602837  0.284650  0.887276   \n",
      "..        ...       ...       ...       ...       ...       ...       ...   \n",
      "763  0.176471  0.015075  0.245902 -0.030303 -0.574468 -0.019374 -0.920581   \n",
      "764 -0.764706  0.226131  0.147541 -0.454545 -1.000000  0.096870 -0.776260   \n",
      "765 -0.411765  0.216080  0.180328 -0.535354 -0.735225 -0.219076 -0.857387   \n",
      "766 -0.882353  0.266332 -0.016393 -1.000000 -1.000000 -0.102832 -0.768574   \n",
      "767 -0.882353 -0.065327  0.147541 -0.373737 -1.000000 -0.093890 -0.797609   \n",
      "\n",
      "            7    8  \n",
      "0   -0.033333  1.0  \n",
      "1   -0.666667 -1.0  \n",
      "2   -0.633333  1.0  \n",
      "3   -1.000000 -1.0  \n",
      "4   -0.600000  1.0  \n",
      "..        ...  ...  \n",
      "763  0.400000 -1.0  \n",
      "764 -0.800000 -1.0  \n",
      "765 -0.700000 -1.0  \n",
      "766 -0.133333  1.0  \n",
      "767 -0.933333 -1.0  \n",
      "\n",
      "[768 rows x 9 columns]\n"
     ]
    }
   ],
   "source": [
    "from sklearn.preprocessing import MinMaxScaler\n",
    "print(\"Normalizacja danych <-1,1>\")\n",
    "scaler = MinMaxScaler(feature_range=(-1, 1))\n",
    "df_normalized = pd.DataFrame(scaler.fit_transform(dataframe), columns=dataframe.columns)\n",
    "\n",
    "print(df_normalized)"
   ]
  },
  {
   "attachments": {},
   "cell_type": "markdown",
   "metadata": {},
   "source": [
    "<0,1>"
   ]
  },
  {
   "cell_type": "code",
   "execution_count": 23,
   "metadata": {},
   "outputs": [
    {
     "name": "stdout",
     "output_type": "stream",
     "text": [
      "Normalizacja danych <0,1>\n",
      "            0         1         2         3         4         5         6  \\\n",
      "0    0.352941  0.743719  0.590164  0.353535  0.000000  0.500745  0.234415   \n",
      "1    0.058824  0.427136  0.540984  0.292929  0.000000  0.396423  0.116567   \n",
      "2    0.470588  0.919598  0.524590  0.000000  0.000000  0.347243  0.253629   \n",
      "3    0.058824  0.447236  0.540984  0.232323  0.111111  0.418778  0.038002   \n",
      "4    0.000000  0.688442  0.327869  0.353535  0.198582  0.642325  0.943638   \n",
      "..        ...       ...       ...       ...       ...       ...       ...   \n",
      "763  0.588235  0.507538  0.622951  0.484848  0.212766  0.490313  0.039710   \n",
      "764  0.117647  0.613065  0.573770  0.272727  0.000000  0.548435  0.111870   \n",
      "765  0.294118  0.608040  0.590164  0.232323  0.132388  0.390462  0.071307   \n",
      "766  0.058824  0.633166  0.491803  0.000000  0.000000  0.448584  0.115713   \n",
      "767  0.058824  0.467337  0.573770  0.313131  0.000000  0.453055  0.101196   \n",
      "\n",
      "            7    8  \n",
      "0    0.483333  1.0  \n",
      "1    0.166667  0.0  \n",
      "2    0.183333  1.0  \n",
      "3    0.000000  0.0  \n",
      "4    0.200000  1.0  \n",
      "..        ...  ...  \n",
      "763  0.700000  0.0  \n",
      "764  0.100000  0.0  \n",
      "765  0.150000  0.0  \n",
      "766  0.433333  1.0  \n",
      "767  0.033333  0.0  \n",
      "\n",
      "[768 rows x 9 columns]\n"
     ]
    }
   ],
   "source": [
    "print(\"Normalizacja danych <0,1>\")\n",
    "scal = MinMaxScaler(feature_range=(0, 1))\n",
    "dn = pd.DataFrame(scal.fit_transform(dataframe), columns=dataframe.columns)\n",
    "print(dn)"
   ]
  },
  {
   "attachments": {},
   "cell_type": "markdown",
   "metadata": {},
   "source": [
    "<-10,10>"
   ]
  },
  {
   "cell_type": "code",
   "execution_count": 24,
   "metadata": {},
   "outputs": [
    {
     "name": "stdout",
     "output_type": "stream",
     "text": [
      "Normalizacja danych <-10,10>\n",
      "            0         1         2         3         4         5         6  \\\n",
      "0    0.352941  0.743719  0.590164  0.353535  0.000000  0.500745  0.234415   \n",
      "1    0.058824  0.427136  0.540984  0.292929  0.000000  0.396423  0.116567   \n",
      "2    0.470588  0.919598  0.524590  0.000000  0.000000  0.347243  0.253629   \n",
      "3    0.058824  0.447236  0.540984  0.232323  0.111111  0.418778  0.038002   \n",
      "4    0.000000  0.688442  0.327869  0.353535  0.198582  0.642325  0.943638   \n",
      "..        ...       ...       ...       ...       ...       ...       ...   \n",
      "763  0.588235  0.507538  0.622951  0.484848  0.212766  0.490313  0.039710   \n",
      "764  0.117647  0.613065  0.573770  0.272727  0.000000  0.548435  0.111870   \n",
      "765  0.294118  0.608040  0.590164  0.232323  0.132388  0.390462  0.071307   \n",
      "766  0.058824  0.633166  0.491803  0.000000  0.000000  0.448584  0.115713   \n",
      "767  0.058824  0.467337  0.573770  0.313131  0.000000  0.453055  0.101196   \n",
      "\n",
      "            7    8  \n",
      "0    0.483333  1.0  \n",
      "1    0.166667  0.0  \n",
      "2    0.183333  1.0  \n",
      "3    0.000000  0.0  \n",
      "4    0.200000  1.0  \n",
      "..        ...  ...  \n",
      "763  0.700000  0.0  \n",
      "764  0.100000  0.0  \n",
      "765  0.150000  0.0  \n",
      "766  0.433333  1.0  \n",
      "767  0.033333  0.0  \n",
      "\n",
      "[768 rows x 9 columns]\n"
     ]
    }
   ],
   "source": [
    "print(\"Normalizacja danych <-10,10>\")\n",
    "scaler = MinMaxScaler(feature_range=(0, 1))\n",
    "dn = pd.DataFrame(scal.fit_transform(dataframe), columns=dataframe.columns)\n",
    "print(dn)"
   ]
  },
  {
   "attachments": {},
   "cell_type": "markdown",
   "metadata": {},
   "source": [
    "4 c "
   ]
  },
  {
   "cell_type": "code",
   "execution_count": 27,
   "metadata": {},
   "outputs": [
    {
     "name": "stdout",
     "output_type": "stream",
     "text": [
      "Standaryzacja danych\n",
      "                  0             1             2             3             4  \\\n",
      "count  7.680000e+02  7.680000e+02  7.680000e+02  7.680000e+02  7.680000e+02   \n",
      "mean  -6.476301e-17 -9.251859e-18  1.503427e-17  1.006140e-16 -3.006854e-17   \n",
      "std    1.000652e+00  1.000652e+00  1.000652e+00  1.000652e+00  1.000652e+00   \n",
      "min   -1.141852e+00 -3.783654e+00 -3.572597e+00 -1.288212e+00 -6.928906e-01   \n",
      "25%   -8.448851e-01 -6.852363e-01 -3.673367e-01 -1.288212e+00 -6.928906e-01   \n",
      "50%   -2.509521e-01 -1.218877e-01  1.496408e-01  1.545332e-01 -4.280622e-01   \n",
      "75%    6.399473e-01  6.057709e-01  5.632228e-01  7.190857e-01  4.120079e-01   \n",
      "max    3.906578e+00  2.444478e+00  2.734528e+00  4.921866e+00  6.652839e+00   \n",
      "\n",
      "                  5             6             7             8  \n",
      "count  7.680000e+02  7.680000e+02  7.680000e+02  7.680000e+02  \n",
      "mean   2.590520e-16  2.451743e-16  1.931325e-16  7.401487e-17  \n",
      "std    1.000652e+00  1.000652e+00  1.000652e+00  1.000652e+00  \n",
      "min   -4.060474e+00 -1.189553e+00 -1.041549e+00 -7.321202e-01  \n",
      "25%   -5.955785e-01 -6.889685e-01 -7.862862e-01 -7.321202e-01  \n",
      "50%    9.419788e-04 -3.001282e-01 -3.608474e-01 -7.321202e-01  \n",
      "75%    5.847705e-01  4.662269e-01  6.602056e-01  1.365896e+00  \n",
      "max    4.455807e+00  5.883565e+00  4.063716e+00  1.365896e+00  \n",
      "0    1.001304\n",
      "1    1.001304\n",
      "2    1.001304\n",
      "3    1.001304\n",
      "4    1.001304\n",
      "5    1.001304\n",
      "6    1.001304\n",
      "7    1.001304\n",
      "8    1.001304\n",
      "dtype: float64\n",
      "dane po standaryzacji\n",
      "            0         1         2         3         4         5         6  \\\n",
      "0    0.639947  0.848324  0.149641  0.907270 -0.692891  0.204013  0.468492   \n",
      "1   -0.844885 -1.123396 -0.160546  0.530902 -0.692891 -0.684422 -0.365061   \n",
      "2    1.233880  1.943724 -0.263941 -1.288212 -0.692891 -1.103255  0.604397   \n",
      "3   -0.844885 -0.998208 -0.160546  0.154533  0.123302 -0.494043 -0.920763   \n",
      "4   -1.141852  0.504055 -1.504687  0.907270  0.765836  1.409746  5.484909   \n",
      "..        ...       ...       ...       ...       ...       ...       ...   \n",
      "763  1.827813 -0.622642  0.356432  1.722735  0.870031  0.115169 -0.908682   \n",
      "764 -0.547919  0.034598  0.046245  0.405445 -0.692891  0.610154 -0.398282   \n",
      "765  0.342981  0.003301  0.149641  0.154533  0.279594 -0.735190 -0.685193   \n",
      "766 -0.844885  0.159787 -0.470732 -1.288212 -0.692891 -0.240205 -0.371101   \n",
      "767 -0.844885 -0.873019  0.046245  0.656358 -0.692891 -0.202129 -0.473785   \n",
      "\n",
      "            7         8  \n",
      "0    1.425995  1.365896  \n",
      "1   -0.190672 -0.732120  \n",
      "2   -0.105584  1.365896  \n",
      "3   -1.041549 -0.732120  \n",
      "4   -0.020496  1.365896  \n",
      "..        ...       ...  \n",
      "763  2.532136 -0.732120  \n",
      "764 -0.531023 -0.732120  \n",
      "765 -0.275760 -0.732120  \n",
      "766  1.170732  1.365896  \n",
      "767 -0.871374 -0.732120  \n",
      "\n",
      "[768 rows x 9 columns]\n"
     ]
    }
   ],
   "source": [
    "print(\"Standaryzacja danych\")\n",
    "scaler = StandardScaler()\n",
    "data_scaled = pd.DataFrame(scaler.fit_transform(dataframe), columns=dataframe.columns)\n",
    "print(data_scaled.describe())\n",
    "print(data_scaled.var())\n",
    "print(\"dane po standaryzacji\")\n",
    "print(data_scaled)"
   ]
  },
  {
   "attachments": {},
   "cell_type": "markdown",
   "metadata": {},
   "source": [
    "4 d "
   ]
  },
  {
   "cell_type": "code",
   "execution_count": 34,
   "metadata": {},
   "outputs": [
    {
     "data": {
      "text/html": [
       "<div>\n",
       "<style scoped>\n",
       "    .dataframe tbody tr th:only-of-type {\n",
       "        vertical-align: middle;\n",
       "    }\n",
       "\n",
       "    .dataframe tbody tr th {\n",
       "        vertical-align: top;\n",
       "    }\n",
       "\n",
       "    .dataframe thead th {\n",
       "        text-align: right;\n",
       "    }\n",
       "</style>\n",
       "<table border=\"1\" class=\"dataframe\">\n",
       "  <thead>\n",
       "    <tr style=\"text-align: right;\">\n",
       "      <th></th>\n",
       "      <th>RowNumber</th>\n",
       "      <th>CustomerId</th>\n",
       "      <th>Surname</th>\n",
       "      <th>CreditScore</th>\n",
       "      <th>Geography</th>\n",
       "      <th>Gender</th>\n",
       "      <th>Age</th>\n",
       "      <th>Tenure</th>\n",
       "      <th>Balance</th>\n",
       "      <th>NumOfProducts</th>\n",
       "      <th>HasCrCard</th>\n",
       "      <th>IsActiveMember</th>\n",
       "      <th>EstimatedSalary</th>\n",
       "      <th>Exited</th>\n",
       "    </tr>\n",
       "  </thead>\n",
       "  <tbody>\n",
       "    <tr>\n",
       "      <th>0</th>\n",
       "      <td>1</td>\n",
       "      <td>15634602</td>\n",
       "      <td>Hargrave</td>\n",
       "      <td>619</td>\n",
       "      <td>France</td>\n",
       "      <td>Female</td>\n",
       "      <td>42</td>\n",
       "      <td>2</td>\n",
       "      <td>0.00</td>\n",
       "      <td>1</td>\n",
       "      <td>1</td>\n",
       "      <td>1</td>\n",
       "      <td>101348.88</td>\n",
       "      <td>1</td>\n",
       "    </tr>\n",
       "    <tr>\n",
       "      <th>1</th>\n",
       "      <td>2</td>\n",
       "      <td>15647311</td>\n",
       "      <td>Hill</td>\n",
       "      <td>608</td>\n",
       "      <td>Spain</td>\n",
       "      <td>Female</td>\n",
       "      <td>41</td>\n",
       "      <td>1</td>\n",
       "      <td>83807.86</td>\n",
       "      <td>1</td>\n",
       "      <td>0</td>\n",
       "      <td>1</td>\n",
       "      <td>112542.58</td>\n",
       "      <td>0</td>\n",
       "    </tr>\n",
       "    <tr>\n",
       "      <th>2</th>\n",
       "      <td>3</td>\n",
       "      <td>15619304</td>\n",
       "      <td>Onio</td>\n",
       "      <td>502</td>\n",
       "      <td>France</td>\n",
       "      <td>Female</td>\n",
       "      <td>42</td>\n",
       "      <td>8</td>\n",
       "      <td>159660.80</td>\n",
       "      <td>3</td>\n",
       "      <td>1</td>\n",
       "      <td>0</td>\n",
       "      <td>113931.57</td>\n",
       "      <td>1</td>\n",
       "    </tr>\n",
       "    <tr>\n",
       "      <th>3</th>\n",
       "      <td>4</td>\n",
       "      <td>15701354</td>\n",
       "      <td>Boni</td>\n",
       "      <td>699</td>\n",
       "      <td>France</td>\n",
       "      <td>Female</td>\n",
       "      <td>39</td>\n",
       "      <td>1</td>\n",
       "      <td>0.00</td>\n",
       "      <td>2</td>\n",
       "      <td>0</td>\n",
       "      <td>0</td>\n",
       "      <td>93826.63</td>\n",
       "      <td>0</td>\n",
       "    </tr>\n",
       "    <tr>\n",
       "      <th>4</th>\n",
       "      <td>5</td>\n",
       "      <td>15737888</td>\n",
       "      <td>Mitchell</td>\n",
       "      <td>850</td>\n",
       "      <td>Spain</td>\n",
       "      <td>Female</td>\n",
       "      <td>43</td>\n",
       "      <td>2</td>\n",
       "      <td>125510.82</td>\n",
       "      <td>1</td>\n",
       "      <td>1</td>\n",
       "      <td>1</td>\n",
       "      <td>79084.10</td>\n",
       "      <td>0</td>\n",
       "    </tr>\n",
       "  </tbody>\n",
       "</table>\n",
       "</div>"
      ],
      "text/plain": [
       "   RowNumber  CustomerId   Surname  CreditScore Geography  Gender  Age  \\\n",
       "0          1    15634602  Hargrave          619    France  Female   42   \n",
       "1          2    15647311      Hill          608     Spain  Female   41   \n",
       "2          3    15619304      Onio          502    France  Female   42   \n",
       "3          4    15701354      Boni          699    France  Female   39   \n",
       "4          5    15737888  Mitchell          850     Spain  Female   43   \n",
       "\n",
       "   Tenure    Balance  NumOfProducts  HasCrCard  IsActiveMember  \\\n",
       "0       2       0.00              1          1               1   \n",
       "1       1   83807.86              1          0               1   \n",
       "2       8  159660.80              3          1               0   \n",
       "3       1       0.00              2          0               0   \n",
       "4       2  125510.82              1          1               1   \n",
       "\n",
       "   EstimatedSalary  Exited  \n",
       "0        101348.88       1  \n",
       "1        112542.58       0  \n",
       "2        113931.57       1  \n",
       "3         93826.63       0  \n",
       "4         79084.10       0  "
      ]
     },
     "execution_count": 34,
     "metadata": {},
     "output_type": "execute_result"
    }
   ],
   "source": [
    "new = pd.read_csv(\"Churn_Modelling.csv\", sep=\",\")\n",
    "new.head()"
   ]
  },
  {
   "cell_type": "code",
   "execution_count": 36,
   "metadata": {},
   "outputs": [
    {
     "name": "stdout",
     "output_type": "stream",
     "text": [
      "      RowNumber  CustomerId    Surname  CreditScore  Gender  Age  Tenure  \\\n",
      "0             1    15634602   Hargrave          619  Female   42       2   \n",
      "1             2    15647311       Hill          608  Female   41       1   \n",
      "2             3    15619304       Onio          502  Female   42       8   \n",
      "3             4    15701354       Boni          699  Female   39       1   \n",
      "4             5    15737888   Mitchell          850  Female   43       2   \n",
      "...         ...         ...        ...          ...     ...  ...     ...   \n",
      "9995       9996    15606229   Obijiaku          771    Male   39       5   \n",
      "9996       9997    15569892  Johnstone          516    Male   35      10   \n",
      "9997       9998    15584532        Liu          709  Female   36       7   \n",
      "9998       9999    15682355  Sabbatini          772    Male   42       3   \n",
      "9999      10000    15628319     Walker          792  Female   28       4   \n",
      "\n",
      "        Balance  NumOfProducts  HasCrCard  IsActiveMember  EstimatedSalary  \\\n",
      "0          0.00              1          1               1        101348.88   \n",
      "1      83807.86              1          0               1        112542.58   \n",
      "2     159660.80              3          1               0        113931.57   \n",
      "3          0.00              2          0               0         93826.63   \n",
      "4     125510.82              1          1               1         79084.10   \n",
      "...         ...            ...        ...             ...              ...   \n",
      "9995       0.00              2          1               0         96270.64   \n",
      "9996   57369.61              1          1               1        101699.77   \n",
      "9997       0.00              1          0               1         42085.58   \n",
      "9998   75075.31              2          1               0         92888.52   \n",
      "9999  130142.79              1          1               0         38190.78   \n",
      "\n",
      "      Exited  Geography_France  Geography_Germany  Geography_Spain  \n",
      "0          1                 1                  0                0  \n",
      "1          0                 0                  0                1  \n",
      "2          1                 1                  0                0  \n",
      "3          0                 1                  0                0  \n",
      "4          0                 0                  0                1  \n",
      "...      ...               ...                ...              ...  \n",
      "9995       0                 1                  0                0  \n",
      "9996       0                 1                  0                0  \n",
      "9997       1                 1                  0                0  \n",
      "9998       1                 0                  1                0  \n",
      "9999       0                 1                  0                0  \n",
      "\n",
      "[10000 rows x 16 columns]\n"
     ]
    }
   ],
   "source": [
    "dr = pd.get_dummies(data=new,columns=['Geography'])\n",
    "print(dr)"
   ]
  },
  {
   "cell_type": "code",
   "execution_count": 38,
   "metadata": {},
   "outputs": [
    {
     "name": "stdout",
     "output_type": "stream",
     "text": [
      "      RowNumber  CustomerId    Surname  CreditScore  Gender  Age  Tenure  \\\n",
      "0             1    15634602   Hargrave          619  Female   42       2   \n",
      "1             2    15647311       Hill          608  Female   41       1   \n",
      "2             3    15619304       Onio          502  Female   42       8   \n",
      "3             4    15701354       Boni          699  Female   39       1   \n",
      "4             5    15737888   Mitchell          850  Female   43       2   \n",
      "...         ...         ...        ...          ...     ...  ...     ...   \n",
      "9995       9996    15606229   Obijiaku          771    Male   39       5   \n",
      "9996       9997    15569892  Johnstone          516    Male   35      10   \n",
      "9997       9998    15584532        Liu          709  Female   36       7   \n",
      "9998       9999    15682355  Sabbatini          772    Male   42       3   \n",
      "9999      10000    15628319     Walker          792  Female   28       4   \n",
      "\n",
      "        Balance  NumOfProducts  HasCrCard  IsActiveMember  EstimatedSalary  \\\n",
      "0          0.00              1          1               1        101348.88   \n",
      "1      83807.86              1          0               1        112542.58   \n",
      "2     159660.80              3          1               0        113931.57   \n",
      "3          0.00              2          0               0         93826.63   \n",
      "4     125510.82              1          1               1         79084.10   \n",
      "...         ...            ...        ...             ...              ...   \n",
      "9995       0.00              2          1               0         96270.64   \n",
      "9996   57369.61              1          1               1        101699.77   \n",
      "9997       0.00              1          0               1         42085.58   \n",
      "9998   75075.31              2          1               0         92888.52   \n",
      "9999  130142.79              1          1               0         38190.78   \n",
      "\n",
      "      Exited  Geography_Germany  Geography_Spain  \n",
      "0          1                  0                0  \n",
      "1          0                  0                1  \n",
      "2          1                  0                0  \n",
      "3          0                  0                0  \n",
      "4          0                  0                1  \n",
      "...      ...                ...              ...  \n",
      "9995       0                  0                0  \n",
      "9996       0                  0                0  \n",
      "9997       1                  0                0  \n",
      "9998       1                  1                0  \n",
      "9999       0                  0                0  \n",
      "\n",
      "[10000 rows x 15 columns]\n"
     ]
    }
   ],
   "source": [
    "dr = dr.drop(\"Geography_France\", axis=1)\n",
    "print(dr)"
   ]
  }
 ],
 "metadata": {
  "kernelspec": {
   "display_name": "Python 3",
   "language": "python",
   "name": "python3"
  },
  "language_info": {
   "codemirror_mode": {
    "name": "ipython",
    "version": 3
   },
   "file_extension": ".py",
   "mimetype": "text/x-python",
   "name": "python",
   "nbconvert_exporter": "python",
   "pygments_lexer": "ipython3",
   "version": "3.10.4"
  },
  "orig_nbformat": 4
 },
 "nbformat": 4,
 "nbformat_minor": 2
}
